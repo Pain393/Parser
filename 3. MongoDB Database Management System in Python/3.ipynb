{
 "cells": [
  {
   "cell_type": "code",
   "execution_count": 94,
   "id": "71dc86fa",
   "metadata": {},
   "outputs": [],
   "source": [
    "import os\n",
    "import json\n",
    "import requests\n",
    "from bs4 import BeautifulSoup as bs"
   ]
  },
  {
   "cell_type": "code",
   "execution_count": 95,
   "id": "d12911c9",
   "metadata": {},
   "outputs": [
    {
     "data": {
      "text/plain": [
       "200"
      ]
     },
     "execution_count": 95,
     "metadata": {},
     "output_type": "execute_result"
    }
   ],
   "source": [
    "url = 'https://quotes.toscrape.com'\n",
    "r = requests.get(url)\n",
    "r.status_code"
   ]
  },
  {
   "cell_type": "code",
   "execution_count": 96,
   "id": "52fe41be",
   "metadata": {},
   "outputs": [
    {
     "data": {
      "text/plain": [
       "10"
      ]
     },
     "execution_count": 96,
     "metadata": {},
     "output_type": "execute_result"
    }
   ],
   "source": [
    "html = bs(r.content, 'html.parser')\n",
    "all_quotes = html.select('div[class=quote]')\n",
    "len(all_quotes)"
   ]
  },
  {
   "cell_type": "code",
   "execution_count": 97,
   "id": "b0425774",
   "metadata": {
    "scrolled": true
   },
   "outputs": [
    {
     "name": "stdout",
     "output_type": "stream",
     "text": [
      "Start scraping url https://quotes.toscrape.com\n",
      "\tStart scraping quote #1 from 10\n",
      "\tStart scraping quote #2 from 10\n",
      "\tStart scraping quote #3 from 10\n",
      "\tStart scraping quote #4 from 10\n",
      "\tStart scraping quote #5 from 10\n",
      "\tStart scraping quote #6 from 10\n",
      "\tStart scraping quote #7 from 10\n",
      "\tStart scraping quote #8 from 10\n",
      "\tStart scraping quote #9 from 10\n",
      "\tStart scraping quote #10 from 10\n",
      "Start scraping url https://quotes.toscrape.com/page/2/\n",
      "\tStart scraping quote #1 from 10\n",
      "\tStart scraping quote #2 from 10\n",
      "\tStart scraping quote #3 from 10\n",
      "\tStart scraping quote #4 from 10\n",
      "\tStart scraping quote #5 from 10\n",
      "\tStart scraping quote #6 from 10\n",
      "\tStart scraping quote #7 from 10\n",
      "\tStart scraping quote #8 from 10\n",
      "\tStart scraping quote #9 from 10\n",
      "\tStart scraping quote #10 from 10\n",
      "Start scraping url https://quotes.toscrape.com/page/3/\n",
      "\tStart scraping quote #1 from 10\n",
      "\tStart scraping quote #2 from 10\n",
      "\tStart scraping quote #3 from 10\n",
      "\tStart scraping quote #4 from 10\n",
      "\tStart scraping quote #5 from 10\n",
      "\tStart scraping quote #6 from 10\n",
      "\tStart scraping quote #7 from 10\n",
      "\tStart scraping quote #8 from 10\n",
      "\tStart scraping quote #9 from 10\n",
      "\tStart scraping quote #10 from 10\n",
      "Start scraping url https://quotes.toscrape.com/page/4/\n",
      "\tStart scraping quote #1 from 10\n",
      "\tStart scraping quote #2 from 10\n",
      "\tStart scraping quote #3 from 10\n",
      "\tStart scraping quote #4 from 10\n",
      "\tStart scraping quote #5 from 10\n",
      "\tStart scraping quote #6 from 10\n",
      "\tStart scraping quote #7 from 10\n",
      "\tStart scraping quote #8 from 10\n",
      "\tStart scraping quote #9 from 10\n",
      "\tStart scraping quote #10 from 10\n",
      "Start scraping url https://quotes.toscrape.com/page/5/\n",
      "\tStart scraping quote #1 from 10\n",
      "\tStart scraping quote #2 from 10\n",
      "\tStart scraping quote #3 from 10\n",
      "\tStart scraping quote #4 from 10\n",
      "\tStart scraping quote #5 from 10\n",
      "\tStart scraping quote #6 from 10\n",
      "\tStart scraping quote #7 from 10\n",
      "\tStart scraping quote #8 from 10\n",
      "\tStart scraping quote #9 from 10\n",
      "\tStart scraping quote #10 from 10\n",
      "Start scraping url https://quotes.toscrape.com/page/6/\n",
      "\tStart scraping quote #1 from 10\n",
      "\tStart scraping quote #2 from 10\n",
      "\tStart scraping quote #3 from 10\n",
      "\tStart scraping quote #4 from 10\n",
      "\tStart scraping quote #5 from 10\n",
      "\tStart scraping quote #6 from 10\n",
      "\tStart scraping quote #7 from 10\n",
      "\tStart scraping quote #8 from 10\n",
      "\tStart scraping quote #9 from 10\n",
      "\tStart scraping quote #10 from 10\n",
      "Start scraping url https://quotes.toscrape.com/page/7/\n",
      "\tStart scraping quote #1 from 10\n",
      "\tStart scraping quote #2 from 10\n",
      "\tStart scraping quote #3 from 10\n",
      "\tStart scraping quote #4 from 10\n",
      "\tStart scraping quote #5 from 10\n",
      "\tStart scraping quote #6 from 10\n",
      "\tStart scraping quote #7 from 10\n",
      "\tStart scraping quote #8 from 10\n",
      "\tStart scraping quote #9 from 10\n",
      "\tStart scraping quote #10 from 10\n",
      "Start scraping url https://quotes.toscrape.com/page/8/\n",
      "\tStart scraping quote #1 from 10\n",
      "\tStart scraping quote #2 from 10\n",
      "\tStart scraping quote #3 from 10\n",
      "\tStart scraping quote #4 from 10\n",
      "\tStart scraping quote #5 from 10\n",
      "\tStart scraping quote #6 from 10\n",
      "\tStart scraping quote #7 from 10\n",
      "\tStart scraping quote #8 from 10\n",
      "\tStart scraping quote #9 from 10\n",
      "\tStart scraping quote #10 from 10\n",
      "Start scraping url https://quotes.toscrape.com/page/9/\n",
      "\tStart scraping quote #1 from 10\n",
      "\tStart scraping quote #2 from 10\n",
      "\tStart scraping quote #3 from 10\n",
      "\tStart scraping quote #4 from 10\n",
      "\tStart scraping quote #5 from 10\n",
      "\tStart scraping quote #6 from 10\n",
      "\tStart scraping quote #7 from 10\n",
      "\tStart scraping quote #8 from 10\n",
      "\tStart scraping quote #9 from 10\n",
      "\tStart scraping quote #10 from 10\n",
      "Start scraping url https://quotes.toscrape.com/page/10/\n",
      "\tStart scraping quote #1 from 10\n",
      "\tStart scraping quote #2 from 10\n",
      "\tStart scraping quote #3 from 10\n",
      "\tStart scraping quote #4 from 10\n",
      "\tStart scraping quote #5 from 10\n",
      "\tStart scraping quote #6 from 10\n",
      "\tStart scraping quote #7 from 10\n",
      "\tStart scraping quote #8 from 10\n",
      "\tStart scraping quote #9 from 10\n",
      "\tStart scraping quote #10 from 10\n",
      "DONE\n"
     ]
    }
   ],
   "source": [
    "quotes_list = []\n",
    "\n",
    "with open('quote_data_tmp.json', 'a') as jf:\n",
    "    while True:\n",
    "        print(f'Start scraping url {url}')\n",
    "        req = requests.get(url)\n",
    "        if req.status_code == 200:\n",
    "            html = bs(req.content, 'html.parser')\n",
    "            all_quotes = html.select('div[class=quote]')\n",
    "\n",
    "            for quote_number, quote in enumerate(all_quotes, 1):\n",
    "                print(f'\\tStart scraping quote #{quote_number} from {len(all_quotes)}')\n",
    "                tags_list = []\n",
    "                text = quote.select_one('span[class=text]').text\n",
    "                author = quote.find('small').text\n",
    "                tags_list = []\n",
    "                tags = quote.find_all('a', class_='tag')\n",
    "                for tag in tags:\n",
    "                    tags_list.append(tag.text)\n",
    "                quote_dict = {\n",
    "                            'text': text,\n",
    "                            'author': author,\n",
    "                            'tags': tags_list,\n",
    "                            'source': 'https://quotes.toscrape.com'\n",
    "                        }\n",
    "                quotes_list.append(quote_dict)\n",
    "\n",
    "                json.dump(quote_dict, jf)\n",
    "\n",
    "            try:\n",
    "                next_page = html.select_one('li[class=next] a')['href']\n",
    "                url = 'https://quotes.toscrape.com' + next_page\n",
    "                continue\n",
    "            except:\n",
    "                break\n",
    "        else:\n",
    "            print(f'Ошибка: {req.status_code}')\n",
    "            \n",
    "print('DONE')"
   ]
  },
  {
   "cell_type": "code",
   "execution_count": null,
   "id": "81f4109a",
   "metadata": {},
   "outputs": [],
   "source": []
  },
  {
   "cell_type": "code",
   "execution_count": null,
   "id": "45e39771",
   "metadata": {},
   "outputs": [],
   "source": []
  }
 ],
 "metadata": {
  "kernelspec": {
   "display_name": "Python 3 (ipykernel)",
   "language": "python",
   "name": "python3"
  },
  "language_info": {
   "codemirror_mode": {
    "name": "ipython",
    "version": 3
   },
   "file_extension": ".py",
   "mimetype": "text/x-python",
   "name": "python",
   "nbconvert_exporter": "python",
   "pygments_lexer": "ipython3",
   "version": "3.9.7"
  }
 },
 "nbformat": 4,
 "nbformat_minor": 5
}
