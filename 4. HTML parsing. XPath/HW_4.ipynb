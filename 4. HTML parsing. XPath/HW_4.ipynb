{
 "cells": [
  {
   "cell_type": "code",
   "execution_count": 9,
   "id": "71dc86fa",
   "metadata": {
    "scrolled": true
   },
   "outputs": [
    {
     "ename": "ModuleNotFoundError",
     "evalue": "No module named 'pymongo'",
     "output_type": "error",
     "traceback": [
      "\u001b[1;31m---------------------------------------------------------------------------\u001b[0m",
      "\u001b[1;31mModuleNotFoundError\u001b[0m                       Traceback (most recent call last)",
      "\u001b[1;32m~\\AppData\\Local\\Temp/ipykernel_12788/3691823058.py\u001b[0m in \u001b[0;36m<module>\u001b[1;34m\u001b[0m\n\u001b[1;32m----> 1\u001b[1;33m \u001b[1;32mfrom\u001b[0m \u001b[0mpymongo\u001b[0m \u001b[1;32mimport\u001b[0m \u001b[0mMongoClient\u001b[0m\u001b[1;33m\u001b[0m\u001b[1;33m\u001b[0m\u001b[0m\n\u001b[0m\u001b[0;32m      2\u001b[0m \u001b[1;32mimport\u001b[0m \u001b[0mrequests\u001b[0m\u001b[1;33m\u001b[0m\u001b[1;33m\u001b[0m\u001b[0m\n\u001b[0;32m      3\u001b[0m \u001b[1;32mfrom\u001b[0m \u001b[0mbs4\u001b[0m \u001b[1;32mimport\u001b[0m \u001b[0mBeautifulSoup\u001b[0m \u001b[1;32mas\u001b[0m \u001b[0mbs\u001b[0m\u001b[1;33m\u001b[0m\u001b[1;33m\u001b[0m\u001b[0m\n",
      "\u001b[1;31mModuleNotFoundError\u001b[0m: No module named 'pymongo'"
     ]
    }
   ],
   "source": [
    "from pymongo import MongoClient\n",
    "import requests\n",
    "from bs4 import BeautifulSoup as bs"
   ]
  },
  {
   "cell_type": "code",
   "execution_count": null,
   "id": "7985a87f",
   "metadata": {},
   "outputs": [],
   "source": [
    "pip install "
   ]
  },
  {
   "cell_type": "code",
   "execution_count": 3,
   "id": "d12911c9",
   "metadata": {},
   "outputs": [
    {
     "data": {
      "text/plain": [
       "200"
      ]
     },
     "execution_count": 3,
     "metadata": {},
     "output_type": "execute_result"
    }
   ],
   "source": [
    "url = 'https://quotes.toscrape.com'\n",
    "r = requests.get(url)\n",
    "r.status_code"
   ]
  },
  {
   "cell_type": "code",
   "execution_count": 4,
   "id": "b0425774",
   "metadata": {
    "scrolled": true
   },
   "outputs": [
    {
     "name": "stdout",
     "output_type": "stream",
     "text": [
      "DONE\n"
     ]
    }
   ],
   "source": [
    "quotes_list = []\n",
    "\n",
    "while True:\n",
    "#         print(f'Start scraping url {url}')\n",
    "    req = requests.get(url)\n",
    "    if req.status_code == 200:\n",
    "        html = bs(req.content, 'html.parser')\n",
    "        all_quotes = html.select('div[class=quote]')\n",
    "\n",
    "        for quote in all_quotes:\n",
    "            text = quote.select_one('span[class=text]').text\n",
    "            author = quote.select_one('small[class=author]').text\n",
    "            tags = quote.find('meta', class_='keywords')['content'].split(',')\n",
    "\n",
    "#                 print(f'text: {text}\\n author: {author}\\n tags: {tags}')\n",
    "            quote_dict = {\n",
    "                        'text': text,\n",
    "                        'author': author,\n",
    "                        'tags': tags,\n",
    "                        'source': 'https://quotes.toscrape.com'\n",
    "                    }\n",
    "            quotes_list.append(quote_dict)\n",
    "\n",
    "        try:\n",
    "            next_page = html.select_one('li[class=next] a')['href']\n",
    "            url = 'https://quotes.toscrape.com' + next_page\n",
    "            continue\n",
    "        except:\n",
    "            break\n",
    "    else:\n",
    "        print(f'Ошибка: {req.status_code}')\n",
    "            \n",
    "print('DONE')"
   ]
  },
  {
   "cell_type": "code",
   "execution_count": 5,
   "id": "a9cb280f",
   "metadata": {},
   "outputs": [],
   "source": [
    "connection = sqlite3.connect('hw_4.db')\n",
    "cursor = connection.cursor()"
   ]
  },
  {
   "cell_type": "code",
   "execution_count": 7,
   "id": "ff0dbead",
   "metadata": {},
   "outputs": [],
   "source": [
    "delete_table_quote = '''\n",
    "    DROP TABLE IF EXISTS quote\n",
    "'''\n",
    "cursor.execute(delete_table_quote)\n",
    "\n",
    "create_table_quote = '''\n",
    "    CREATE TABLE quote(\n",
    "        quote TEXT,\n",
    "        author TEXT\n",
    "    )\n",
    "'''\n",
    "cursor.execute(create_table_quote)\n",
    "\n",
    "delete_query = '''\n",
    "    DROP TABLE IF EXISTS quote\n",
    "'''\n",
    "cursor.execute(delete_query)\n",
    "\n",
    "query = '''\n",
    "    CREATE TABLE quote(\n",
    "        quote TEXT,\n",
    "        author TEXT\n",
    "    )\n",
    "'''\n",
    "cursor.execute(query)\n",
    "\n",
    "\n",
    "connection.commit()"
   ]
  },
  {
   "cell_type": "code",
   "execution_count": 8,
   "id": "b41c7eeb",
   "metadata": {},
   "outputs": [
    {
     "data": {
      "text/plain": [
       "<sqlite3.Cursor at 0x1abf6046260>"
      ]
     },
     "execution_count": 8,
     "metadata": {},
     "output_type": "execute_result"
    }
   ],
   "source": [
    "search_query = 'SELECT * FROM quote'\n",
    "cursor.execute(search_query)"
   ]
  },
  {
   "cell_type": "code",
   "execution_count": null,
   "id": "eedd6bf3",
   "metadata": {},
   "outputs": [],
   "source": [
    "insert_query = '''\n",
    "    INSERT INTO cars(\n",
    "        name,\n",
    "        price\n",
    "    )\n",
    "    VALUES(\n",
    "        ?,\n",
    "        ?\n",
    "    )\n",
    "'''\n",
    "cars_tuple = ('Audi', 52642)\n",
    "cursor.execute(insert_query, cars_tuple)\n",
    "connection.commit()"
   ]
  },
  {
   "cell_type": "code",
   "execution_count": null,
   "id": "8e0d381a",
   "metadata": {},
   "outputs": [],
   "source": [
    "print(cursor.execute('SELECT * FROM cars'))"
   ]
  },
  {
   "cell_type": "code",
   "execution_count": null,
   "id": "57bc8f09",
   "metadata": {},
   "outputs": [],
   "source": [
    "cursor.execute('SELECT * FROM cars')\n",
    "find_cars = cursor.fetchall()\n",
    "for car in find_cars:\n",
    "    print(car)"
   ]
  },
  {
   "cell_type": "code",
   "execution_count": null,
   "id": "5eb26cb6",
   "metadata": {},
   "outputs": [],
   "source": []
  },
  {
   "cell_type": "code",
   "execution_count": null,
   "id": "0c7c641f",
   "metadata": {},
   "outputs": [],
   "source": []
  }
 ],
 "metadata": {
  "kernelspec": {
   "display_name": "Python 3 (ipykernel)",
   "language": "python",
   "name": "python3"
  },
  "language_info": {
   "codemirror_mode": {
    "name": "ipython",
    "version": 3
   },
   "file_extension": ".py",
   "mimetype": "text/x-python",
   "name": "python",
   "nbconvert_exporter": "python",
   "pygments_lexer": "ipython3",
   "version": "3.9.7"
  }
 },
 "nbformat": 4,
 "nbformat_minor": 5
}
